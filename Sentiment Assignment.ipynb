{
 "cells": [
  {
   "cell_type": "markdown",
   "id": "7f79baf9",
   "metadata": {},
   "source": [
    "# ADS 509 Sentiment Assignment\n",
    "\n",
    "This notebook holds the Sentiment Assignment for Module 6 in ADS 509, Applied Text Mining. Work through this notebook, writing code and answering questions where required. \n",
    "\n",
    "In a previous assignment you put together Twitter data and lyrics data on two artists. In this assignment we apply sentiment analysis to those data sets. If, for some reason, you did not complete that previous assignment, data to use for this assignment can be found in the assignment materials section of Blackboard. \n"
   ]
  },
  {
   "cell_type": "markdown",
   "id": "aae8e2e1",
   "metadata": {},
   "source": [
    "## General Assignment Instructions\n",
    "\n",
    "These instructions are included in every assignment, to remind you of the coding standards for the class. Feel free to delete this cell after reading it. \n",
    "\n",
    "One sign of mature code is conforming to a style guide. We recommend the [Google Python Style Guide](https://google.github.io/styleguide/pyguide.html). If you use a different style guide, please include a cell with a link. \n",
    "\n",
    "Your code should be relatively easy-to-read, sensibly commented, and clean. Writing code is a messy process, so please be sure to edit your final submission. Remove any cells that are not needed or parts of cells that contain unnecessary code. Remove inessential `import` statements and make sure that all such statements are moved into the designated cell. \n",
    "\n",
    "Make use of non-code cells for written commentary. These cells should be grammatical and clearly written. In some of these cells you will have questions to answer. The questions will be marked by a \"Q:\" and will have a corresponding \"A:\" spot for you. *Make sure to answer every question marked with a `Q:` for full credit.* \n"
   ]
  },
  {
   "cell_type": "code",
   "execution_count": 1,
   "id": "e2d096b7",
   "metadata": {},
   "outputs": [
    {
     "name": "stderr",
     "output_type": "stream",
     "text": [
      "C:\\Users\\Grigor\\.conda\\envs\\ADS_502\\lib\\site-packages\\numpy\\_distributor_init.py:30: UserWarning: loaded more than 1 DLL from .libs:\n",
      "C:\\Users\\Grigor\\.conda\\envs\\ADS_502\\lib\\site-packages\\numpy\\.libs\\libopenblas.XWYDX2IKJW2NMTWSFYNGFUWKQU3LYTCZ.gfortran-win_amd64.dll\n",
      "C:\\Users\\Grigor\\.conda\\envs\\ADS_502\\lib\\site-packages\\numpy\\.libs\\libopenblas64__v0.3.21-gcc_10_3_0.dll\n",
      "  warnings.warn(\"loaded more than 1 DLL from .libs:\"\n"
     ]
    }
   ],
   "source": [
    "import os\n",
    "import re\n",
    "import emoji\n",
    "import pandas as pd\n",
    "import numpy as np\n",
    "import seaborn as sns\n",
    "from collections import Counter, defaultdict\n",
    "from string import punctuation\n",
    "\n",
    "from nltk.corpus import stopwords\n",
    "\n",
    "sw = stopwords.words(\"english\")"
   ]
  },
  {
   "cell_type": "code",
   "execution_count": 28,
   "id": "6b555ab2",
   "metadata": {},
   "outputs": [],
   "source": [
    "# Add any additional import statements you need here\n",
    "\n",
    "import matplotlib.pyplot as plt\n",
    "\n"
   ]
  },
  {
   "cell_type": "code",
   "execution_count": 3,
   "id": "923b5a86",
   "metadata": {},
   "outputs": [],
   "source": [
    "# change `data_location` to the location of the folder on your machine.\n",
    "# change `data_location` to the location of the folder on your machine.\n",
    "data_location = \"C:/Users/Grigor/OneDrive/Desktop/Master_Program/ADS509/Module_6/M1_Results/\"\n",
    "\n",
    "# These subfolders should still work if you correctly stored the \n",
    "# data from the Module 1 assignment\n",
    "twitter_folder = \"twitter/\"\n",
    "lyrics_folder = \"lyrics\"\n",
    "\n",
    "positive_words_file = \"positive-words.txt\"\n",
    "negative_words_file = \"negative-words.txt\"\n",
    "tidy_text_file = \"tidytext_sentiments.txt\""
   ]
  },
  {
   "cell_type": "markdown",
   "id": "9d3bf93e",
   "metadata": {},
   "source": [
    "## Data Input\n",
    "\n",
    "Now read in each of the corpora. For the lyrics data, it may be convenient to store the entire contents of the file to make it easier to inspect the titles individually, as you'll do in the last part of the assignment. In the solution, I stored the lyrics data in a dictionary with two dimensions of keys: artist and song. The value was the file contents. A Pandas data frame would work equally well. \n",
    "\n",
    "For the Twitter data, we only need the description field for this assignment. Feel free all the descriptions read it into a data structure. In the solution, I stored the descriptions as a dictionary of lists, with the key being the artist. \n",
    "\n",
    "\n"
   ]
  },
  {
   "cell_type": "code",
   "execution_count": 17,
   "id": "0f76bd3c",
   "metadata": {},
   "outputs": [],
   "source": [
    "artists_files = {'robyn':\"robynkonichiwa_followers_data.txt\",\n",
    "           'cher':\"cher_followers_data.txt\"} \n",
    "# we'll use this dictionary to hold both the artist name and the link on AZlyrics"
   ]
  },
  {
   "cell_type": "code",
   "execution_count": 18,
   "id": "37d70801",
   "metadata": {},
   "outputs": [],
   "source": [
    "# Read in the lyrics data\n",
    "artists = []\n",
    "songs = []\n",
    "lyrics = []\n",
    "\n",
    "for item in os.listdir(data_location + lyrics_folder) :\n",
    "    if os.path.isdir(data_location + lyrics_folder + item) :\n",
    "        for lyric_page in os.listdir(data_location + lyrics_folder + item) :\n",
    "            artist, song = lyric_page.split(\"_\")\n",
    "            \n",
    "            song = song.replace(\".txt\", \"\")\n",
    "            \n",
    "            artists.append(artist)\n",
    "            songs.append(song)\n",
    "            \n",
    "            with open(data_location +lyrics_folder +item + \"/\" +lyric_page) as infile :\n",
    "                next(infile)\n",
    "                next(infile)\n",
    "                next(infile)\n",
    "                next(infile)\n",
    "                \n",
    "                lyrics.append(infile.read())\n",
    "                \n",
    "lyrics_data = pd.DataFrame()\n",
    "lyrics_data['artist'] = artists\n",
    "lyrics_data['song'] = songs\n",
    "lyrics_data['lyrics'] = lyrics"
   ]
  },
  {
   "cell_type": "code",
   "execution_count": 19,
   "id": "debcac5a",
   "metadata": {},
   "outputs": [],
   "source": [
    "# Read in the twitter data\n",
    "twitter_data = pd.read_csv(data_location + twitter_folder + artists_files['cher'],\n",
    "                          sep = \"\\t\",\n",
    "                          quoting = 3)\n",
    "twitter_data['artist'] = \"cher\""
   ]
  },
  {
   "cell_type": "code",
   "execution_count": 20,
   "id": "5dd78f65",
   "metadata": {},
   "outputs": [],
   "source": [
    "twitter_data_2 = pd.read_csv(data_location + twitter_folder + artists_files['robyn'],\n",
    "                          sep = \"\\t\",\n",
    "                          quoting = 3)\n",
    "twitter_data_2['artist'] = \"robyn\"\n",
    "twitter_data = pd.concat([twitter_data, twitter_data_2])\n",
    "del(twitter_data_2)"
   ]
  },
  {
   "cell_type": "code",
   "execution_count": 21,
   "id": "af9e7a4b",
   "metadata": {},
   "outputs": [],
   "source": [
    "# Read in the positive and negative words and the\n",
    "# tidytext sentiment. Store these so that the positive\n",
    "# words are associated with a score of +1 and negative words\n",
    "# are associated with a score of -1. You can use a dataframe or a \n",
    "# dictionary for this.\n",
    "\n",
    "sentiment = dict()\n",
    "\n",
    "with open(positive_words_file, 'r') as infile :\n",
    "    for idx, line in enumerate(infile.readlines()) :\n",
    "        if line[0] == \";\" :\n",
    "            continue\n",
    "            \n",
    "        line.strip()\n",
    "        \n",
    "        if line and line.isalpha() :\n",
    "            sentiment[line.strip()] = 1\n",
    "            \n",
    "with open(negative_words_file, 'r') as infile :\n",
    "    for idx, line in enumerate(infile.readlines()) :\n",
    "        if line[0] == \";\" :\n",
    "            continue\n",
    "            \n",
    "        line.strip()\n",
    "        \n",
    "        if line and line.isalpha() :\n",
    "            sentiment[line.strip()] = -1     \n",
    "\n",
    "with open(tidy_text_file, 'r') as infile :\n",
    "    next(infile)\n",
    "    for line in infile.readlines() :\n",
    "        word, sent, lexicon = line.strip().split(\"\\t\")\n",
    "        \n",
    "        if sent == \"negative\" :\n",
    "            sentiment[word] = -1\n",
    "        elif sent == \"positive\" :\n",
    "            sentiment[word] = 1\n",
    "        else :\n",
    "            print(f\"Got {word}, with sentiment {sentiment}.\")"
   ]
  },
  {
   "cell_type": "markdown",
   "id": "6a5f3b12",
   "metadata": {},
   "source": [
    "## Sentiment Analysis on Songs\n",
    "\n",
    "In this section, score the sentiment for all the songs for both artists in your data set. Score the sentiment by manually calculating the sentiment using the combined lexicons provided in this repository. \n",
    "\n",
    "After you have calculated these sentiments, answer the questions at the end of this section.\n"
   ]
  },
  {
   "cell_type": "code",
   "execution_count": 22,
   "id": "664f8d8f",
   "metadata": {},
   "outputs": [],
   "source": [
    "# your code here\n",
    "def get_sentiment(text, sent = sentiment) :\n",
    "    text = [w.lower() for w in text.split()]\n",
    "    \n",
    "    sentiment = sum([sent[word] for word in text if word in sent])\n",
    "    \n",
    "    return(sentiment)"
   ]
  },
  {
   "cell_type": "code",
   "execution_count": 23,
   "id": "9583655c",
   "metadata": {},
   "outputs": [],
   "source": [
    "lyrics_data['sentiment'] = lyrics_data['lyrics'].apply(get_sentiment)"
   ]
  },
  {
   "cell_type": "code",
   "execution_count": 24,
   "id": "c29f7607",
   "metadata": {},
   "outputs": [
    {
     "data": {
      "text/plain": [
       "Series([], Name: sentiment, dtype: float64)"
      ]
     },
     "execution_count": 24,
     "metadata": {},
     "output_type": "execute_result"
    }
   ],
   "source": [
    "avg_sentiment = lyrics_data.groupby('artist')['sentiment'].mean()\n",
    "avg_sentiment"
   ]
  },
  {
   "cell_type": "code",
   "execution_count": 25,
   "id": "adec52f7",
   "metadata": {},
   "outputs": [
    {
     "name": "stdout",
     "output_type": "stream",
     "text": [
      "--------------------------------------------------\n",
      "--------------------------------------------------\n",
      "--------------------------------------------------\n"
     ]
    }
   ],
   "source": [
    "first_artist = lyrics_data[lyrics_data['artist'] == 'cher']\n",
    "\n",
    "sorted_by_sentiment = first_artist.sort_values(by = 'sentiment')\n",
    "top_3_songs = sorted_by_sentiment.tail(3)\n",
    "bottom_3_songs = sorted_by_sentiment.head(3)\n",
    "\n",
    "for i, rpw in top_3_songs.iterrows():\n",
    "    print(row['lyrics'])\n",
    "    print(\"-\"*50)\n",
    "    \n",
    "print(\"-\"*50)\n",
    "print(\"-\"*50)\n",
    "print(\"-\"*50)\n",
    "\n",
    "for i, row in bottom_3_songs.iterrows():\n",
    "    print(row['lyrics'])\n",
    "    print(\"-\"*50)"
   ]
  },
  {
   "cell_type": "code",
   "execution_count": 26,
   "id": "2df30241",
   "metadata": {},
   "outputs": [
    {
     "name": "stdout",
     "output_type": "stream",
     "text": [
      "Series([], Name: song, dtype: float64)\n"
     ]
    },
    {
     "data": {
      "text/plain": [
       "Series([], Name: song, dtype: float64)"
      ]
     },
     "execution_count": 26,
     "metadata": {},
     "output_type": "execute_result"
    }
   ],
   "source": [
    "print(top_3_songs.song)\n",
    "bottom_3_songs.song"
   ]
  },
  {
   "cell_type": "code",
   "execution_count": null,
   "id": "4448f796",
   "metadata": {},
   "outputs": [],
   "source": []
  },
  {
   "cell_type": "markdown",
   "id": "1f8334f4",
   "metadata": {},
   "source": [
    "### Questions\n",
    "\n",
    "Q: Overall, which artist has the higher average sentiment per song? \n",
    "\n",
    "A: I was unable to answer this question as my code was not able to print out the results. Bu looking at the office hour \n",
    "video it appears robyn was higher.\n",
    "\n",
    "---\n",
    "\n",
    "Q: For your first artist, what are the three songs that have the highest and lowest sentiments? Print the lyrics of those songs to the screen. What do you think is driving the sentiment score? \n",
    "\n",
    "A: I was unable to answer this question as my code was not able to print out the results\n",
    "\n",
    "---\n",
    "\n",
    "Q: For your second artist, what are the three songs that have the highest and lowest sentiments? Print the lyrics of those songs to the screen. What do you think is driving the sentiment score? \n",
    "\n",
    "A:I was unable to answer this question as my code was not able to print out the results\n",
    "\n",
    "---\n",
    "\n",
    "Q: Plot the distributions of the sentiment scores for both artists. You can use `seaborn` to plot densities or plot histograms in matplotlib.\n",
    "\n",
    "\n"
   ]
  },
  {
   "cell_type": "markdown",
   "id": "b3fe644d",
   "metadata": {},
   "source": [
    "## Sentiment Analysis on Twitter Descriptions\n",
    "\n",
    "In this section, define two sets of emojis you designate as positive and negative. Make sure to have at least 10 emojis per set. You can learn about the most popular emojis on Twitter at [the emojitracker](https://emojitracker.com/). \n",
    "\n",
    "Associate your positive emojis with a score of +1, negative with -1. Score the average sentiment of your two artists based on the Twitter descriptions of their followers. The average sentiment can just be the total score divided by number of followers. You do not need to calculate sentiment on non-emoji content for this section."
   ]
  },
  {
   "cell_type": "code",
   "execution_count": 29,
   "id": "1a5c1d25",
   "metadata": {},
   "outputs": [
    {
     "data": {
      "image/png": "[encoded data removed]",
      "text/plain": [
       "<Figure size 640x480 with 1 Axes>"
      ]
     },
     "metadata": {},
     "output_type": "display_data"
    }
   ],
   "source": [
    "# your code here\n",
    "sns.histplot(data = lyrics_data, x = 'sentiment', hue = 'artist', kde = True)\n",
    "plt.show()"
   ]
  },
  {
   "cell_type": "code",
   "execution_count": 30,
   "id": "1c6ccefb",
   "metadata": {},
   "outputs": [],
   "source": [
    "pos_emoji = ['❤️','😍','😊','👏','😎','🔥','😆','💛','☺️','🙏']\n",
    "neg_emoji = ['😱', '😟','😡','😞','😢','😱','🔴','👎','❌','😦']\n",
    "\n",
    "emoji_sentiment = dict(zip(pos_emoji, [1]*15))\n",
    "emoji_sentiment.update(dict(zip(neg_emoji,[-1]*15)))"
   ]
  },
  {
   "cell_type": "code",
   "execution_count": 31,
   "id": "34aa4ec6",
   "metadata": {},
   "outputs": [
    {
     "data": {
      "text/plain": [
       "{'❤️': 1,\n",
       " '😍': 1,\n",
       " '😊': 1,\n",
       " '👏': 1,\n",
       " '😎': 1,\n",
       " '🔥': 1,\n",
       " '😆': 1,\n",
       " '💛': 1,\n",
       " '☺️': 1,\n",
       " '🙏': 1,\n",
       " '😱': -1,\n",
       " '😟': -1,\n",
       " '😡': -1,\n",
       " '😞': -1,\n",
       " '😢': -1,\n",
       " '🔴': -1,\n",
       " '👎': -1,\n",
       " '❌': -1,\n",
       " '😦': -1}"
      ]
     },
     "execution_count": 31,
     "metadata": {},
     "output_type": "execute_result"
    }
   ],
   "source": [
    "emoji_sentiment"
   ]
  },
  {
   "cell_type": "code",
   "execution_count": 32,
   "id": "3a80bba6",
   "metadata": {},
   "outputs": [],
   "source": [
    "def get_desc_sentiment(desc,sent=emoji_sentiment) :\n",
    "    \n",
    "    sentiment = sum([sent[ch] for ch in str(desc) if ch in sent])\n",
    "    return(sentiment)\n",
    "\n",
    "def extract_emojis(desc,emoji_list) :\n",
    "    emojis = [ch for ch in str(desc) if ch in emjoi_list]\n",
    "    \n",
    "    return(emojis)"
   ]
  },
  {
   "cell_type": "code",
   "execution_count": 33,
   "id": "6dd2e05c",
   "metadata": {},
   "outputs": [
    {
     "ename": "NameError",
     "evalue": "name 'tokenizer' is not defined",
     "output_type": "error",
     "traceback": [
      "\u001b[1;31m---------------------------------------------------------------------------\u001b[0m",
      "\u001b[1;31mNameError\u001b[0m                                 Traceback (most recent call last)",
      "Cell \u001b[1;32mIn[33], line 2\u001b[0m\n\u001b[0;32m      1\u001b[0m twitter_data[\u001b[38;5;124m'\u001b[39m\u001b[38;5;124msentiment\u001b[39m\u001b[38;5;124m'\u001b[39m] \u001b[38;5;241m=\u001b[39m twitter_data\u001b[38;5;241m.\u001b[39mdescription\u001b[38;5;241m.\u001b[39mapply(get_desc_sentiment)\n\u001b[1;32m----> 2\u001b[0m twitter_data[\u001b[38;5;124m'\u001b[39m\u001b[38;5;124mpositive_emoji\u001b[39m\u001b[38;5;124m'\u001b[39m] \u001b[38;5;241m=\u001b[39m twitter_data\u001b[38;5;241m.\u001b[39mdescription\u001b[38;5;241m.\u001b[39mapply(extract_emojis, args \u001b[38;5;241m=\u001b[39m (\u001b[43mtokenizer\u001b[49m, \u001b[38;5;241m50\u001b[39m))\n\u001b[0;32m      3\u001b[0m twitter_data[\u001b[38;5;124m'\u001b[39m\u001b[38;5;124mnegative_emoji\u001b[39m\u001b[38;5;124m'\u001b[39m] \u001b[38;5;241m=\u001b[39m twitter_data\u001b[38;5;241m.\u001b[39mdescription\u001b[38;5;241m.\u001b[39mapply(extract_emojis, args \u001b[38;5;241m=\u001b[39m (tokenizer, \u001b[38;5;241m50\u001b[39m))\n",
      "\u001b[1;31mNameError\u001b[0m: name 'tokenizer' is not defined"
     ]
    }
   ],
   "source": [
    "twitter_data['sentiment'] = twitter_data.description.apply(get_desc_sentiment)\n",
    "twitter_data['positive_emoji'] = twitter_data.description.apply(extract_emojis, args = (tokenizer, 50))\n",
    "twitter_data['negative_emoji'] = twitter_data.description.apply(extract_emojis, args = (tokenizer, 50))"
   ]
  },
  {
   "cell_type": "code",
   "execution_count": 34,
   "id": "f73a50bb",
   "metadata": {},
   "outputs": [
    {
     "data": {
      "text/html": [
       "<div>\n",
       "<style scoped>\n",
       "    .dataframe tbody tr th:only-of-type {\n",
       "        vertical-align: middle;\n",
       "    }\n",
       "\n",
       "    .dataframe tbody tr th {\n",
       "        vertical-align: top;\n",
       "    }\n",
       "\n",
       "    .dataframe thead th {\n",
       "        text-align: right;\n",
       "    }\n",
       "</style>\n",
       "<table border=\"1\" class=\"dataframe\">\n",
       "  <thead>\n",
       "    <tr style=\"text-align: right;\">\n",
       "      <th></th>\n",
       "      <th>screen_name</th>\n",
       "      <th>name</th>\n",
       "      <th>id</th>\n",
       "      <th>location</th>\n",
       "      <th>followers_count</th>\n",
       "      <th>friends_count</th>\n",
       "      <th>description</th>\n",
       "      <th>artist</th>\n",
       "      <th>sentiment</th>\n",
       "    </tr>\n",
       "  </thead>\n",
       "  <tbody>\n",
       "    <tr>\n",
       "      <th>38</th>\n",
       "      <td>AdamTheeStan</td>\n",
       "      <td>CrackHeadBarbie</td>\n",
       "      <td>1363710785663488001</td>\n",
       "      <td>NaN</td>\n",
       "      <td>10</td>\n",
       "      <td>37</td>\n",
       "      <td>He/Him | 🏳️‍🌈 | AvaLance worshipper | Legends ...</td>\n",
       "      <td>cher</td>\n",
       "      <td>-1</td>\n",
       "    </tr>\n",
       "    <tr>\n",
       "      <th>271</th>\n",
       "      <td>CynchaBlue</td>\n",
       "      <td>Cyncha</td>\n",
       "      <td>1500244117871288322</td>\n",
       "      <td>NaN</td>\n",
       "      <td>151</td>\n",
       "      <td>430</td>\n",
       "      <td>Grandma, great grandma, Air Force veteran, ret...</td>\n",
       "      <td>cher</td>\n",
       "      <td>-1</td>\n",
       "    </tr>\n",
       "    <tr>\n",
       "      <th>736</th>\n",
       "      <td>controvers810</td>\n",
       "      <td>Lady_controvers810</td>\n",
       "      <td>1502693495680684040</td>\n",
       "      <td>NaN</td>\n",
       "      <td>1</td>\n",
       "      <td>48</td>\n",
       "      <td>😈😈😈😈😈😈😘😘😘😘😍😍😝😜😜😜😜😜👹👹😱😱😱😱😺😺🙀🙀🙀🙀🙀🙀🙀🙀🙀🙀🙀🙀🙀</td>\n",
       "      <td>cher</td>\n",
       "      <td>-2</td>\n",
       "    </tr>\n",
       "    <tr>\n",
       "      <th>748</th>\n",
       "      <td>sunsungirly</td>\n",
       "      <td>sun</td>\n",
       "      <td>115539533</td>\n",
       "      <td>NaN</td>\n",
       "      <td>9484</td>\n",
       "      <td>9590</td>\n",
       "      <td>I stand with Ukraine 🇺🇦 Resister Sister! Biden...</td>\n",
       "      <td>cher</td>\n",
       "      <td>-1</td>\n",
       "    </tr>\n",
       "    <tr>\n",
       "      <th>6180</th>\n",
       "      <td>reedcliffe83</td>\n",
       "      <td>ἄνθος VII 🇺🇦🏳️‍🌈🏳️‍⚧️</td>\n",
       "      <td>796770404148899840</td>\n",
       "      <td>Somewhere Over The🌈Rainbow</td>\n",
       "      <td>9242</td>\n",
       "      <td>292</td>\n",
       "      <td>🎧#musicmap🗺 🏳️‍🌈⚧🏳️‍⚧️ 🎈🇺🇦🎈✨🎶🦋🎼🦋🎶✨🫶🧘🫶🎈https://...</td>\n",
       "      <td>cher</td>\n",
       "      <td>-1</td>\n",
       "    </tr>\n",
       "  </tbody>\n",
       "</table>\n",
       "</div>"
      ],
      "text/plain": [
       "        screen_name                   name                   id  \\\n",
       "38     AdamTheeStan        CrackHeadBarbie  1363710785663488001   \n",
       "271      CynchaBlue                 Cyncha  1500244117871288322   \n",
       "736   controvers810     Lady_controvers810  1502693495680684040   \n",
       "748     sunsungirly                    sun            115539533   \n",
       "6180   reedcliffe83  ἄνθος VII 🇺🇦🏳️‍🌈🏳️‍⚧️   796770404148899840   \n",
       "\n",
       "                        location  followers_count  friends_count  \\\n",
       "38                           NaN               10             37   \n",
       "271                          NaN              151            430   \n",
       "736                          NaN                1             48   \n",
       "748                          NaN             9484           9590   \n",
       "6180  Somewhere Over The🌈Rainbow             9242            292   \n",
       "\n",
       "                                            description artist  sentiment  \n",
       "38    He/Him | 🏳️‍🌈 | AvaLance worshipper | Legends ...   cher         -1  \n",
       "271   Grandma, great grandma, Air Force veteran, ret...   cher         -1  \n",
       "736             😈😈😈😈😈😈😘😘😘😘😍😍😝😜😜😜😜😜👹👹😱😱😱😱😺😺🙀🙀🙀🙀🙀🙀🙀🙀🙀🙀🙀🙀🙀   cher         -2  \n",
       "748   I stand with Ukraine 🇺🇦 Resister Sister! Biden...   cher         -1  \n",
       "6180  🎧#musicmap🗺 🏳️‍🌈⚧🏳️‍⚧️ 🎈🇺🇦🎈✨🎶🦋🎼🦋🎶✨🫶🧘🫶🎈https://...   cher         -1  "
      ]
     },
     "execution_count": 34,
     "metadata": {},
     "output_type": "execute_result"
    }
   ],
   "source": [
    "twitter_data.query('sentiment < 0').head()"
   ]
  },
  {
   "cell_type": "code",
   "execution_count": 35,
   "id": "4084f0d3",
   "metadata": {},
   "outputs": [
    {
     "data": {
      "text/plain": [
       "artist\n",
       "cher     0.009756\n",
       "robyn    0.004886\n",
       "Name: sentiment, dtype: float64"
      ]
     },
     "execution_count": 35,
     "metadata": {},
     "output_type": "execute_result"
    }
   ],
   "source": [
    "twitter_data.groupby('artist').sentiment.mean()"
   ]
  },
  {
   "cell_type": "code",
   "execution_count": 36,
   "id": "bd7a936a",
   "metadata": {},
   "outputs": [],
   "source": [
    "def get_top_n_emojis(emoji_list, n =3):\n",
    "    emoji_count = {}\n",
    "    for emoji in emoji_list :\n",
    "        if emoji in emoji_count :\n",
    "            emoji_count[emoji] +=1\n",
    "        else:\n",
    "            emoji_count[emoji] = 1\n",
    "    sorted_emojis = sorted(emoji_counts.items(), key = lambda x: x[1], reverse = True)\n",
    "    top_emojis = [emoji for emoji, count in sorted_emojis[:n]]\n",
    "    return top_n_emojis"
   ]
  },
  {
   "cell_type": "markdown",
   "id": "fb92eb93",
   "metadata": {},
   "source": [
    "Q: What is the average sentiment of your two artists? \n",
    "\n",
    "A: cher     0.009756\n",
    "robyn    0.004886\n",
    "\n",
    "---\n",
    "\n",
    "Q: Which positive emoji is the most popular for each artist? Which negative emoji? \n",
    "\n",
    "A: I was unable to answer that question\n",
    "\n"
   ]
  },
  {
   "cell_type": "code",
   "execution_count": null,
   "id": "de5b7041",
   "metadata": {},
   "outputs": [],
   "source": []
  }
 ],
 "metadata": {
  "kernelspec": {
   "display_name": "Python 3 (ipykernel)",
   "language": "python",
   "name": "python3"
  },
  "language_info": {
   "codemirror_mode": {
    "name": "ipython",
    "version": 3
   },
   "file_extension": ".py",
   "mimetype": "text/x-python",
   "name": "python",
   "nbconvert_exporter": "python",
   "pygments_lexer": "ipython3",
   "version": "3.8.16"
  }
 },
 "nbformat": 4,
 "nbformat_minor": 5
}
